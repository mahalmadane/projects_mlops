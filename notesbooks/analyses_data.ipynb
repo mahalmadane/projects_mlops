{
 "cells": [
  {
   "cell_type": "code",
   "execution_count": 5,
   "id": "98932ec2",
   "metadata": {},
   "outputs": [
    {
     "name": "stdout",
     "output_type": "stream",
     "text": [
      "Obtaining file:///C:/Users/hp/Desktop/end_to_end_mlops/notesbooks\n",
      "Note: you may need to restart the kernel to use updated packages.\n"
     ]
    },
    {
     "name": "stderr",
     "output_type": "stream",
     "text": [
      "ERROR: file:///C:/Users/hp/Desktop/end_to_end_mlops/notesbooks does not appear to be a Python project: neither 'setup.py' nor 'pyproject.toml' found.\n"
     ]
    }
   ],
   "source": [
    "# Install the local package in editable mode so 'src' can be imported\n",
    "%pip install -e ."
   ]
  },
  {
   "cell_type": "code",
   "execution_count": 6,
   "id": "f276186b",
   "metadata": {},
   "outputs": [],
   "source": [
    "import sys\n",
    "import os\n",
    "import pandas as pd\n",
    "\n",
    "# ensure project root (parent of notebooks) is on sys.path so src can be resolved\n",
    "project_root = os.path.dirname(os.getcwd())\n",
    "if project_root not in sys.path:\n",
    "\tsys.path.insert(0, project_root)\n",
    "\n",
    "from src.data import strategie_analyses"
   ]
  },
  {
   "cell_type": "code",
   "execution_count": 7,
   "id": "9b4894a8",
   "metadata": {},
   "outputs": [
    {
     "name": "stdout",
     "output_type": "stream",
     "text": [
      "Loaded df from: c:\\Users\\hp\\Desktop\\end_to_end_mlops\\data\\raw\\dfall.csv\n"
     ]
    }
   ],
   "source": [
    "# build a path relative to the notebook folder (notesbooks -> project root)\n",
    "project_root = os.path.dirname(os.getcwd())  # parent of notesbooks\n",
    "candidate = os.path.join(project_root, 'data', 'raw', 'dfall.csv')\n",
    "\n",
    "# if the candidate does not exist, search the project tree for the file\n",
    "if not os.path.exists(candidate):\n",
    "\tfound = None\n",
    "\tfor root, _, files in os.walk(project_root):\n",
    "\t\tif 'dfall.csv' in files:\n",
    "\t\t\tfound = os.path.join(root, 'dfall.csv')\n",
    "\t\t\tbreak\n",
    "\tif found:\n",
    "\t\tcandidate = found\n",
    "\telse:\n",
    "\t\traise FileNotFoundError(f\"dfall.csv not found. Searched: {candidate} and project tree under {project_root}\")\n",
    "\n",
    "# load the dataframe\n",
    "df = pd.read_csv(candidate)\n",
    "print(f\"Loaded df from: {candidate}\")"
   ]
  },
  {
   "cell_type": "code",
   "execution_count": 8,
   "id": "9a06c437",
   "metadata": {},
   "outputs": [
    {
     "name": "stdout",
     "output_type": "stream",
     "text": [
      "id                        0\n",
      "title                     0\n",
      "company_name            214\n",
      "category_label            0\n",
      "category_tag              0\n",
      "country                   0\n",
      "location_display          0\n",
      "location_area             0\n",
      "latitude                743\n",
      "longitude               743\n",
      "contract_type          3154\n",
      "contract_time          3015\n",
      "salary_min             2456\n",
      "salary_max             2465\n",
      "salary_mid             2456\n",
      "salary_is_predicted       0\n",
      "created_dt                0\n",
      "created_date              0\n",
      "redirect_url              0\n",
      "adref                     0\n",
      "dtype: int64\n"
     ]
    }
   ],
   "source": [
    "strategie_analyses=strategie_analyses.StrategieMultipleValues()\n",
    "strategie_analyses.missing(df)"
   ]
  },
  {
   "cell_type": "code",
   "execution_count": 9,
   "id": "3d60c0f5",
   "metadata": {},
   "outputs": [
    {
     "name": "stdout",
     "output_type": "stream",
     "text": [
      "                 id     latitude    longitude    salary_min    salary_max  \\\n",
      "count  4.000000e+03  3257.000000  3257.000000  1.544000e+03  1.535000e+03   \n",
      "mean   5.316432e+09    46.967893    -8.814865  4.549448e+04  5.627804e+04   \n",
      "std    2.036443e+08     5.306513    34.321400  9.365883e+04  2.223390e+05   \n",
      "min    2.983960e+09    18.081052  -157.739444  0.000000e+00  1.000000e+00   \n",
      "25%    5.322522e+09    43.934213    -1.499100  2.200000e+04  2.543800e+04   \n",
      "50%    5.389136e+09    47.424029     4.919448  3.461617e+04  4.000000e+04   \n",
      "75%    5.406462e+09    51.503378     8.518157  5.530624e+04  6.156134e+04   \n",
      "max    5.418264e+09    57.579973    18.227159  2.000000e+06  5.000000e+06   \n",
      "\n",
      "         salary_mid  salary_is_predicted  \n",
      "count  1.544000e+03          4000.000000  \n",
      "mean   5.080285e+04             0.139750  \n",
      "std    1.567656e+05             0.346771  \n",
      "min    1.000000e+00             0.000000  \n",
      "25%    2.405000e+04             0.000000  \n",
      "50%    3.750000e+04             0.000000  \n",
      "75%    5.750000e+04             0.000000  \n",
      "max    3.500000e+06             1.000000  \n"
     ]
    }
   ],
   "source": [
    "strategie_analyses.descibtion(df)"
   ]
  },
  {
   "cell_type": "code",
   "execution_count": 10,
   "id": "72b25fa4",
   "metadata": {},
   "outputs": [
    {
     "name": "stdout",
     "output_type": "stream",
     "text": [
      "id                       int64\n",
      "title                   object\n",
      "company_name            object\n",
      "category_label          object\n",
      "category_tag            object\n",
      "country                 object\n",
      "location_display        object\n",
      "location_area           object\n",
      "latitude               float64\n",
      "longitude              float64\n",
      "contract_type           object\n",
      "contract_time           object\n",
      "salary_min             float64\n",
      "salary_max             float64\n",
      "salary_mid             float64\n",
      "salary_is_predicted      int64\n",
      "created_dt              object\n",
      "created_date            object\n",
      "redirect_url            object\n",
      "adref                   object\n",
      "dtype: object\n"
     ]
    }
   ],
   "source": [
    "strategie_analyses.type(df)"
   ]
  },
  {
   "cell_type": "code",
   "execution_count": null,
   "id": "992a1803",
   "metadata": {},
   "outputs": [],
   "source": []
  }
 ],
 "metadata": {
  "kernelspec": {
   "display_name": "env",
   "language": "python",
   "name": "python3"
  },
  "language_info": {
   "codemirror_mode": {
    "name": "ipython",
    "version": 3
   },
   "file_extension": ".py",
   "mimetype": "text/x-python",
   "name": "python",
   "nbconvert_exporter": "python",
   "pygments_lexer": "ipython3",
   "version": "3.11.8"
  }
 },
 "nbformat": 4,
 "nbformat_minor": 5
}
