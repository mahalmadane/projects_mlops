{
 "cells": [
  {
   "cell_type": "code",
   "execution_count": 5,
   "id": "98932ec2",
   "metadata": {},
   "outputs": [
    {
     "name": "stdout",
     "output_type": "stream",
     "text": [
      "Obtaining file:///C:/Users/hp/Desktop/end_to_end_mlops/notesbooks\n",
      "Note: you may need to restart the kernel to use updated packages.\n"
     ]
    },
    {
     "name": "stderr",
     "output_type": "stream",
     "text": [
      "ERROR: file:///C:/Users/hp/Desktop/end_to_end_mlops/notesbooks does not appear to be a Python project: neither 'setup.py' nor 'pyproject.toml' found.\n"
     ]
    }
   ],
   "source": [
    "# Install the local package in editable mode so 'src' can be imported\n",
    "%pip install -e ."
   ]
  },
  {
   "cell_type": "code",
   "execution_count": 1,
   "id": "f276186b",
   "metadata": {},
   "outputs": [],
   "source": [
    "import sys\n",
    "import os\n",
    "import pandas as pd\n",
    "\n",
    "# ensure project root (parent of notebooks) is on sys.path so src can be resolved\n",
    "project_root = os.path.dirname(os.getcwd())\n",
    "if project_root not in sys.path:\n",
    "\tsys.path.insert(0, project_root)\n",
    "\n",
    "from src.data import strategie_analyses"
   ]
  },
  {
   "cell_type": "code",
   "execution_count": 2,
   "id": "9b4894a8",
   "metadata": {},
   "outputs": [
    {
     "name": "stdout",
     "output_type": "stream",
     "text": [
      "Loaded df from: c:\\Users\\hp\\Desktop\\end_to_end_mlops\\data\\raw\\titanic.csv\n"
     ]
    }
   ],
   "source": [
    "# build a path relative to the notebook folder (notesbooks -> project root)\n",
    "project_root = os.path.dirname(os.getcwd())  # parent of notesbooks\n",
    "candidate = os.path.join(project_root, 'data', 'raw', 'titanic.csv')\n",
    "\n",
    "# if the candidate does not exist, search the project tree for the file\n",
    "if not os.path.exists(candidate):\n",
    "\tfound = None\n",
    "\tfor root, _, files in os.walk(project_root):\n",
    "\t\tif 'titanic.csv' in files:\n",
    "\t\t\tfound = os.path.join(root, 'titanic.csv')\n",
    "\t\t\tbreak\n",
    "\tif found:\n",
    "\t\tcandidate = found\n",
    "\telse:\n",
    "\t\traise FileNotFoundError(f\"dfall.csv not found. Searched: {candidate} and project tree under {project_root}\")\n",
    "\n",
    "# load the dataframe\n",
    "df = pd.read_csv(candidate)\n",
    "print(f\"Loaded df from: {candidate}\")"
   ]
  },
  {
   "cell_type": "code",
   "execution_count": 3,
   "id": "9a06c437",
   "metadata": {},
   "outputs": [
    {
     "name": "stdout",
     "output_type": "stream",
     "text": [
      "PassengerId      0\n",
      "Survived         0\n",
      "Pclass           0\n",
      "Name             0\n",
      "Sex              0\n",
      "Age            177\n",
      "SibSp            0\n",
      "Parch            0\n",
      "Ticket           0\n",
      "Fare             0\n",
      "Cabin          687\n",
      "Embarked         2\n",
      "dtype: int64\n"
     ]
    }
   ],
   "source": [
    "strategie_analyses=strategie_analyses.StrategieMultipleValues()\n",
    "strategie_analyses.missing(df)"
   ]
  },
  {
   "cell_type": "code",
   "execution_count": 4,
   "id": "3d60c0f5",
   "metadata": {},
   "outputs": [
    {
     "name": "stdout",
     "output_type": "stream",
     "text": [
      "       PassengerId    Survived      Pclass         Age       SibSp  \\\n",
      "count   891.000000  891.000000  891.000000  714.000000  891.000000   \n",
      "mean    446.000000    0.383838    2.308642   29.699118    0.523008   \n",
      "std     257.353842    0.486592    0.836071   14.526497    1.102743   \n",
      "min       1.000000    0.000000    1.000000    0.420000    0.000000   \n",
      "25%     223.500000    0.000000    2.000000   20.125000    0.000000   \n",
      "50%     446.000000    0.000000    3.000000   28.000000    0.000000   \n",
      "75%     668.500000    1.000000    3.000000   38.000000    1.000000   \n",
      "max     891.000000    1.000000    3.000000   80.000000    8.000000   \n",
      "\n",
      "            Parch        Fare  \n",
      "count  891.000000  891.000000  \n",
      "mean     0.381594   32.204208  \n",
      "std      0.806057   49.693429  \n",
      "min      0.000000    0.000000  \n",
      "25%      0.000000    7.910400  \n",
      "50%      0.000000   14.454200  \n",
      "75%      0.000000   31.000000  \n",
      "max      6.000000  512.329200  \n"
     ]
    }
   ],
   "source": [
    "strategie_analyses.descibtion(df)"
   ]
  },
  {
   "cell_type": "code",
   "execution_count": 5,
   "id": "72b25fa4",
   "metadata": {},
   "outputs": [
    {
     "name": "stdout",
     "output_type": "stream",
     "text": [
      "PassengerId      int64\n",
      "Survived         int64\n",
      "Pclass           int64\n",
      "Name            object\n",
      "Sex             object\n",
      "Age            float64\n",
      "SibSp            int64\n",
      "Parch            int64\n",
      "Ticket          object\n",
      "Fare           float64\n",
      "Cabin           object\n",
      "Embarked        object\n",
      "dtype: object\n"
     ]
    }
   ],
   "source": [
    "strategie_analyses.type(df)"
   ]
  },
  {
   "cell_type": "code",
   "execution_count": null,
   "id": "992a1803",
   "metadata": {},
   "outputs": [],
   "source": []
  }
 ],
 "metadata": {
  "kernelspec": {
   "display_name": "env",
   "language": "python",
   "name": "python3"
  },
  "language_info": {
   "codemirror_mode": {
    "name": "ipython",
    "version": 3
   },
   "file_extension": ".py",
   "mimetype": "text/x-python",
   "name": "python",
   "nbconvert_exporter": "python",
   "pygments_lexer": "ipython3",
   "version": "3.11.8"
  }
 },
 "nbformat": 4,
 "nbformat_minor": 5
}
